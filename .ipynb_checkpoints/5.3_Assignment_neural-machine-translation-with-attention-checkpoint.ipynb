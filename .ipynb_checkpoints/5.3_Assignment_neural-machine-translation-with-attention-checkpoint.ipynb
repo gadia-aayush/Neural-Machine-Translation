{
 "cells": [
  {
   "cell_type": "code",
   "execution_count": 1,
   "metadata": {},
   "outputs": [
    {
     "name": "stderr",
     "output_type": "stream",
     "text": [
      "Using TensorFlow backend.\n"
     ]
    }
   ],
   "source": [
    "from keras.layers import Bidirectional, Concatenate, Permute, Dot, Input, LSTM, Multiply\n",
    "from keras.layers import RepeatVector, Dense, Activation, Lambda\n",
    "from keras.optimizers import Adam\n",
    "from keras.utils import to_categorical\n",
    "from keras.models import load_model, Model\n",
    "import keras.backend as K\n",
    "import numpy as np\n",
    "\n",
    "from faker import Faker\n",
    "import random\n",
    "from tqdm import tqdm\n",
    "from babel.dates import format_date\n",
    "from nmt_utils import *\n",
    "import matplotlib.pyplot as plt\n",
    "%matplotlib inline"
   ]
  },
  {
   "cell_type": "code",
   "execution_count": 2,
   "metadata": {},
   "outputs": [
    {
     "name": "stderr",
     "output_type": "stream",
     "text": [
      "100%|██████████| 10000/10000 [00:00<00:00, 18071.71it/s]\n"
     ]
    }
   ],
   "source": [
    "m = 10000\n",
    "dataset, human_vocab, machine_vocab, inv_machine_vocab = load_dataset(m)"
   ]
  },
  {
   "cell_type": "code",
   "execution_count": 3,
   "metadata": {},
   "outputs": [
    {
     "data": {
      "text/plain": [
       "[('9 may 1998', '1998-05-09'),\n",
       " ('10.11.19', '2019-11-10'),\n",
       " ('9/10/70', '1970-09-10'),\n",
       " ('saturday april 28 1990', '1990-04-28'),\n",
       " ('thursday january 26 1995', '1995-01-26'),\n",
       " ('monday march 7 1983', '1983-03-07'),\n",
       " ('sunday may 22 1988', '1988-05-22'),\n",
       " ('08 jul 2008', '2008-07-08'),\n",
       " ('8 sep 1999', '1999-09-08'),\n",
       " ('thursday january 1 1981', '1981-01-01')]"
      ]
     },
     "execution_count": 3,
     "metadata": {},
     "output_type": "execute_result"
    }
   ],
   "source": [
    "dataset[:10]"
   ]
  },
  {
   "cell_type": "code",
   "execution_count": 4,
   "metadata": {},
   "outputs": [
    {
     "name": "stdout",
     "output_type": "stream",
     "text": [
      "X.shape: (10000, 30)\n",
      "Y.shape: (10000, 10)\n",
      "Xoh.shape: (10000, 30, 37)\n",
      "Yoh.shape: (10000, 10, 11)\n"
     ]
    }
   ],
   "source": [
    "Tx = 30\n",
    "Ty = 10\n",
    "X, Y, Xoh, Yoh = preprocess_data(dataset, human_vocab, machine_vocab, Tx, Ty)\n",
    "\n",
    "print(\"X.shape:\", X.shape)\n",
    "print(\"Y.shape:\", Y.shape)\n",
    "print(\"Xoh.shape:\", Xoh.shape)\n",
    "print(\"Yoh.shape:\", Yoh.shape)"
   ]
  },
  {
   "cell_type": "code",
   "execution_count": 5,
   "metadata": {},
   "outputs": [
    {
     "name": "stdout",
     "output_type": "stream",
     "text": [
      "Source date: 9 may 1998\n",
      "Target date: 1998-05-09\n",
      "\n",
      "Source after preprocessing (indices): [12  0 24 13 34  0  4 12 12 11 36 36 36 36 36 36 36 36 36 36 36 36 36 36 36\n",
      " 36 36 36 36 36]\n",
      "Target after preprocessing (indices): [ 2 10 10  9  0  1  6  0  1 10]\n",
      "\n",
      "Source after preprocessing (one-hot): [[ 0.  0.  0. ...,  0.  0.  0.]\n",
      " [ 1.  0.  0. ...,  0.  0.  0.]\n",
      " [ 0.  0.  0. ...,  0.  0.  0.]\n",
      " ..., \n",
      " [ 0.  0.  0. ...,  0.  0.  1.]\n",
      " [ 0.  0.  0. ...,  0.  0.  1.]\n",
      " [ 0.  0.  0. ...,  0.  0.  1.]]\n",
      "Target after preprocessing (one-hot): [[ 0.  0.  1.  0.  0.  0.  0.  0.  0.  0.  0.]\n",
      " [ 0.  0.  0.  0.  0.  0.  0.  0.  0.  0.  1.]\n",
      " [ 0.  0.  0.  0.  0.  0.  0.  0.  0.  0.  1.]\n",
      " [ 0.  0.  0.  0.  0.  0.  0.  0.  0.  1.  0.]\n",
      " [ 1.  0.  0.  0.  0.  0.  0.  0.  0.  0.  0.]\n",
      " [ 0.  1.  0.  0.  0.  0.  0.  0.  0.  0.  0.]\n",
      " [ 0.  0.  0.  0.  0.  0.  1.  0.  0.  0.  0.]\n",
      " [ 1.  0.  0.  0.  0.  0.  0.  0.  0.  0.  0.]\n",
      " [ 0.  1.  0.  0.  0.  0.  0.  0.  0.  0.  0.]\n",
      " [ 0.  0.  0.  0.  0.  0.  0.  0.  0.  0.  1.]]\n"
     ]
    }
   ],
   "source": [
    "index = 0\n",
    "print(\"Source date:\", dataset[index][0])\n",
    "print(\"Target date:\", dataset[index][1])\n",
    "print()\n",
    "print(\"Source after preprocessing (indices):\", X[index])\n",
    "print(\"Target after preprocessing (indices):\", Y[index])\n",
    "print()\n",
    "print(\"Source after preprocessing (one-hot):\", Xoh[index])\n",
    "print(\"Target after preprocessing (one-hot):\", Yoh[index])"
   ]
  },
  {
   "cell_type": "code",
   "execution_count": 6,
   "metadata": {
    "collapsed": true
   },
   "outputs": [],
   "source": [
    "# Defined shared layers as global variables\n",
    "repeator = RepeatVector(Tx)\n",
    "concatenator = Concatenate(axis=-1)\n",
    "densor1 = Dense(10, activation = \"tanh\")\n",
    "densor2 = Dense(1, activation = \"relu\")\n",
    "activator = Activation(softmax, name='attention_weights') # We are using a custom softmax(axis = 1) loaded in this notebook\n",
    "dotor = Dot(axes = 1)"
   ]
  },
  {
   "cell_type": "code",
   "execution_count": 22,
   "metadata": {
    "collapsed": true
   },
   "outputs": [],
   "source": [
    "def one_step_attention(a, s_prev):\n",
    "    \"\"\"\n",
    "    Performs one step of attention: Outputs a context vector computed as a dot product of the attention weights\n",
    "    \"alphas\" and the hidden states \"a\" of the Bi-LSTM.\n",
    "    \n",
    "    Arguments:\n",
    "    a -- hidden state output of the Bi-LSTM, numpy-array of shape (m, Tx, 2*n_a)\n",
    "    s_prev -- previous hidden state of the (post-attention) LSTM, numpy-array of shape (m, n_s)\n",
    "    \n",
    "    Returns:\n",
    "    context -- context vector, input of the next (post-attetion) LSTM cell\n",
    "    \"\"\"\n",
    "    \n",
    "    # Use repeator to repeat s_prev to be of shape (m, Tx, n_s) so that you can concatenate it with all hidden states \"a\" (≈ 1 line)\n",
    "    s_prev = repeator(s_prev)\n",
    "    # Use concatenator to concatenate a and s_prev on the last axis (≈ 1 line)\n",
    "    concat = concatenator([a,s_prev])\n",
    "    # Use densor1 to propagate concat through a small fully-connected neural network to compute the \"intermediate energies\" variable e. (≈1 lines)\n",
    "    e = densor1(concat)\n",
    "    # Use densor2 to propagate e through a small fully-connected neural network to compute the \"energies\" variable energies. (≈1 lines)\n",
    "    energies = densor2(e)\n",
    "    # Use \"activator\" on \"energies\" to compute the attention weights \"alphas\" (≈ 1 line)\n",
    "    alphas = activator(energies)\n",
    "    # Use dotor together with \"alphas\" and \"a\" to compute the context vector to be given to the next (post-attention) LSTM-cell (≈ 1 line)\n",
    "    context = dotor([alphas,a])\n",
    "    \n",
    "    return context"
   ]
  },
  {
   "cell_type": "code",
   "execution_count": 23,
   "metadata": {
    "collapsed": true
   },
   "outputs": [],
   "source": [
    "n_a = 32\n",
    "n_s = 64\n",
    "post_activation_LSTM_cell = LSTM(n_s, return_state = True)\n",
    "output_layer = Dense(len(machine_vocab), activation=softmax)"
   ]
  },
  {
   "cell_type": "code",
   "execution_count": 24,
   "metadata": {},
   "outputs": [],
   "source": [
    "def model(Tx, Ty, n_a, n_s, human_vocab_size, machine_vocab_size):\n",
    "    \"\"\"\n",
    "    Arguments:\n",
    "    Tx -- length of the input sequence\n",
    "    Ty -- length of the output sequence\n",
    "    n_a -- hidden state size of the Bi-LSTM\n",
    "    n_s -- hidden state size of the post-attention LSTM\n",
    "    human_vocab_size -- size of the python dictionary \"human_vocab\"\n",
    "    machine_vocab_size -- size of the python dictionary \"machine_vocab\"\n",
    "\n",
    "    Returns:\n",
    "    model -- Keras model instance\n",
    "    \"\"\"\n",
    "    \n",
    "    # Define the inputs of your model with a shape (Tx,)\n",
    "    # Define s0 and c0, initial hidden state for the decoder LSTM of shape (n_s,)\n",
    "    X = Input(shape=(Tx, human_vocab_size))\n",
    "    s0 = Input(shape=(n_s,), name='s0')\n",
    "    c0 = Input(shape=(n_s,), name='c0')\n",
    "    s = s0\n",
    "    c = c0\n",
    "    \n",
    "    # Initialize empty list of outputs\n",
    "    outputs = []\n",
    "    \n",
    "    # Step 1: Define your pre-attention Bi-LSTM. Remember to use return_sequences=True. (≈ 1 line)\n",
    "    a = Bidirectional(LSTM(n_a, return_sequences=True))(X)\n",
    "    \n",
    "    # Step 2: Iterate for Ty steps\n",
    "    for t in range(Ty):\n",
    "    \n",
    "        # Step 2.A: Perform one step of the attention mechanism to get back the context vector at step t (≈ 1 line)\n",
    "        context = one_step_attention(a, s)\n",
    "        \n",
    "        # Step 2.B: Apply the post-attention LSTM cell to the \"context\" vector.\n",
    "        # Don't forget to pass: initial_state = [hidden state, cell state] (≈ 1 line)\n",
    "        s, _, c = post_activation_LSTM_cell(context, initial_state = [s, c] )\n",
    "        \n",
    "        # Step 2.C: Apply Dense layer to the hidden state output of the post-attention LSTM (≈ 1 line)\n",
    "        out = output_layer(s)\n",
    "        \n",
    "        # Step 2.D: Append \"out\" to the \"outputs\" list (≈ 1 line)\n",
    "        outputs.append(out)\n",
    "    \n",
    "    # Step 3: Create model instance taking three inputs and returning the list of outputs. (≈ 1 line)\n",
    "    model = Model(inputs = [X,s0,c0], outputs = outputs)\n",
    "    \n",
    "    return model"
   ]
  },
  {
   "cell_type": "code",
   "execution_count": 25,
   "metadata": {},
   "outputs": [],
   "source": [
    "model = model(Tx, Ty, n_a, n_s, len(human_vocab), len(machine_vocab))"
   ]
  },
  {
   "cell_type": "code",
   "execution_count": 26,
   "metadata": {},
   "outputs": [
    {
     "name": "stdout",
     "output_type": "stream",
     "text": [
      "____________________________________________________________________________________________________\n",
      "Layer (type)                     Output Shape          Param #     Connected to                     \n",
      "====================================================================================================\n",
      "input_3 (InputLayer)             (None, 30, 37)        0                                            \n",
      "____________________________________________________________________________________________________\n",
      "s0 (InputLayer)                  (None, 64)            0                                            \n",
      "____________________________________________________________________________________________________\n",
      "bidirectional_3 (Bidirectional)  (None, 30, 64)        17920       input_3[0][0]                    \n",
      "____________________________________________________________________________________________________\n",
      "repeat_vector_1 (RepeatVector)   (None, 30, 64)        0           s0[0][0]                         \n",
      "                                                                   lstm_7[0][0]                     \n",
      "                                                                   lstm_7[1][0]                     \n",
      "                                                                   lstm_7[2][0]                     \n",
      "                                                                   lstm_7[3][0]                     \n",
      "                                                                   lstm_7[4][0]                     \n",
      "                                                                   lstm_7[5][0]                     \n",
      "                                                                   lstm_7[6][0]                     \n",
      "                                                                   lstm_7[7][0]                     \n",
      "                                                                   lstm_7[8][0]                     \n",
      "____________________________________________________________________________________________________\n",
      "concatenate_1 (Concatenate)      (None, 30, 128)       0           bidirectional_3[0][0]            \n",
      "                                                                   repeat_vector_1[11][0]           \n",
      "                                                                   bidirectional_3[0][0]            \n",
      "                                                                   repeat_vector_1[12][0]           \n",
      "                                                                   bidirectional_3[0][0]            \n",
      "                                                                   repeat_vector_1[13][0]           \n",
      "                                                                   bidirectional_3[0][0]            \n",
      "                                                                   repeat_vector_1[14][0]           \n",
      "                                                                   bidirectional_3[0][0]            \n",
      "                                                                   repeat_vector_1[15][0]           \n",
      "                                                                   bidirectional_3[0][0]            \n",
      "                                                                   repeat_vector_1[16][0]           \n",
      "                                                                   bidirectional_3[0][0]            \n",
      "                                                                   repeat_vector_1[17][0]           \n",
      "                                                                   bidirectional_3[0][0]            \n",
      "                                                                   repeat_vector_1[18][0]           \n",
      "                                                                   bidirectional_3[0][0]            \n",
      "                                                                   repeat_vector_1[19][0]           \n",
      "                                                                   bidirectional_3[0][0]            \n",
      "                                                                   repeat_vector_1[20][0]           \n",
      "____________________________________________________________________________________________________\n",
      "dense_1 (Dense)                  (None, 30, 10)        1290        concatenate_1[10][0]             \n",
      "                                                                   concatenate_1[11][0]             \n",
      "                                                                   concatenate_1[12][0]             \n",
      "                                                                   concatenate_1[13][0]             \n",
      "                                                                   concatenate_1[14][0]             \n",
      "                                                                   concatenate_1[15][0]             \n",
      "                                                                   concatenate_1[16][0]             \n",
      "                                                                   concatenate_1[17][0]             \n",
      "                                                                   concatenate_1[18][0]             \n",
      "                                                                   concatenate_1[19][0]             \n",
      "____________________________________________________________________________________________________\n",
      "dense_2 (Dense)                  (None, 30, 1)         11          dense_1[10][0]                   \n",
      "                                                                   dense_1[11][0]                   \n",
      "                                                                   dense_1[12][0]                   \n",
      "                                                                   dense_1[13][0]                   \n",
      "                                                                   dense_1[14][0]                   \n",
      "                                                                   dense_1[15][0]                   \n",
      "                                                                   dense_1[16][0]                   \n",
      "                                                                   dense_1[17][0]                   \n",
      "                                                                   dense_1[18][0]                   \n",
      "                                                                   dense_1[19][0]                   \n",
      "____________________________________________________________________________________________________\n",
      "attention_weights (Activation)   (None, 30, 1)         0           dense_2[10][0]                   \n",
      "                                                                   dense_2[11][0]                   \n",
      "                                                                   dense_2[12][0]                   \n",
      "                                                                   dense_2[13][0]                   \n",
      "                                                                   dense_2[14][0]                   \n",
      "                                                                   dense_2[15][0]                   \n",
      "                                                                   dense_2[16][0]                   \n",
      "                                                                   dense_2[17][0]                   \n",
      "                                                                   dense_2[18][0]                   \n",
      "                                                                   dense_2[19][0]                   \n",
      "____________________________________________________________________________________________________\n",
      "dot_1 (Dot)                      (None, 1, 64)         0           attention_weights[10][0]         \n",
      "                                                                   bidirectional_3[0][0]            \n",
      "                                                                   attention_weights[11][0]         \n",
      "                                                                   bidirectional_3[0][0]            \n",
      "                                                                   attention_weights[12][0]         \n",
      "                                                                   bidirectional_3[0][0]            \n",
      "                                                                   attention_weights[13][0]         \n",
      "                                                                   bidirectional_3[0][0]            \n",
      "                                                                   attention_weights[14][0]         \n",
      "                                                                   bidirectional_3[0][0]            \n",
      "                                                                   attention_weights[15][0]         \n",
      "                                                                   bidirectional_3[0][0]            \n",
      "                                                                   attention_weights[16][0]         \n",
      "                                                                   bidirectional_3[0][0]            \n",
      "                                                                   attention_weights[17][0]         \n",
      "                                                                   bidirectional_3[0][0]            \n",
      "                                                                   attention_weights[18][0]         \n",
      "                                                                   bidirectional_3[0][0]            \n",
      "                                                                   attention_weights[19][0]         \n",
      "                                                                   bidirectional_3[0][0]            \n",
      "____________________________________________________________________________________________________\n",
      "c0 (InputLayer)                  (None, 64)            0                                            \n",
      "____________________________________________________________________________________________________\n",
      "lstm_7 (LSTM)                    [(None, 64), (None, 6 33024       dot_1[10][0]                     \n",
      "                                                                   s0[0][0]                         \n",
      "                                                                   c0[0][0]                         \n",
      "                                                                   dot_1[11][0]                     \n",
      "                                                                   lstm_7[0][0]                     \n",
      "                                                                   lstm_7[0][2]                     \n",
      "                                                                   dot_1[12][0]                     \n",
      "                                                                   lstm_7[1][0]                     \n",
      "                                                                   lstm_7[1][2]                     \n",
      "                                                                   dot_1[13][0]                     \n",
      "                                                                   lstm_7[2][0]                     \n",
      "                                                                   lstm_7[2][2]                     \n",
      "                                                                   dot_1[14][0]                     \n",
      "                                                                   lstm_7[3][0]                     \n",
      "                                                                   lstm_7[3][2]                     \n",
      "                                                                   dot_1[15][0]                     \n",
      "                                                                   lstm_7[4][0]                     \n",
      "                                                                   lstm_7[4][2]                     \n",
      "                                                                   dot_1[16][0]                     \n",
      "                                                                   lstm_7[5][0]                     \n",
      "                                                                   lstm_7[5][2]                     \n",
      "                                                                   dot_1[17][0]                     \n",
      "                                                                   lstm_7[6][0]                     \n",
      "                                                                   lstm_7[6][2]                     \n",
      "                                                                   dot_1[18][0]                     \n",
      "                                                                   lstm_7[7][0]                     \n",
      "                                                                   lstm_7[7][2]                     \n",
      "                                                                   dot_1[19][0]                     \n",
      "                                                                   lstm_7[8][0]                     \n",
      "                                                                   lstm_7[8][2]                     \n",
      "____________________________________________________________________________________________________\n",
      "dense_7 (Dense)                  (None, 11)            715         lstm_7[0][0]                     \n",
      "                                                                   lstm_7[1][0]                     \n",
      "                                                                   lstm_7[2][0]                     \n",
      "                                                                   lstm_7[3][0]                     \n",
      "                                                                   lstm_7[4][0]                     \n",
      "                                                                   lstm_7[5][0]                     \n",
      "                                                                   lstm_7[6][0]                     \n",
      "                                                                   lstm_7[7][0]                     \n",
      "                                                                   lstm_7[8][0]                     \n",
      "                                                                   lstm_7[9][0]                     \n",
      "====================================================================================================\n",
      "Total params: 52,960\n",
      "Trainable params: 52,960\n",
      "Non-trainable params: 0\n",
      "____________________________________________________________________________________________________\n"
     ]
    }
   ],
   "source": [
    "model.summary()"
   ]
  },
  {
   "cell_type": "code",
   "execution_count": 36,
   "metadata": {},
   "outputs": [],
   "source": [
    "opt = Adam(lr=0.005, beta_1=0.9, beta_2=0.999, decay = 0.01)  #lr for learning_rate\n",
    "model.compile(optimizer = \"Adam\", loss = \"categorical_crossentropy\", metrics = [\"accuracy\"])\n",
    "\n",
    "#model = Model(inputs = [X,s0,c0], outputs = outputs) || this is basically creating the object of Model Class\n",
    "#model.compile(optimizer, loss=None, metrics=None, loss_weights=None, sample_weight_mode=None.....)\n",
    "# ^ This is basically applying methods to the object viz created. Here we are applying 'compile' method to the 'model' object.\n"
   ]
  },
  {
   "cell_type": "code",
   "execution_count": 31,
   "metadata": {
    "collapsed": true
   },
   "outputs": [],
   "source": [
    "s0 = np.zeros((m, n_s))\n",
    "c0 = np.zeros((m, n_s))\n",
    "outputs = list(Yoh.swapaxes(0,1))"
   ]
  },
  {
   "cell_type": "code",
   "execution_count": 32,
   "metadata": {},
   "outputs": [
    {
     "name": "stdout",
     "output_type": "stream",
     "text": [
      "Epoch 1/1\n",
      "10000/10000 [==============================] - 37s - loss: 20.6378 - dense_7_loss_1: 2.0741 - dense_7_loss_2: 1.6802 - dense_7_loss_3: 2.1050 - dense_7_loss_4: 2.8015 - dense_7_loss_5: 1.3595 - dense_7_loss_6: 1.7341 - dense_7_loss_7: 2.7663 - dense_7_loss_8: 1.4097 - dense_7_loss_9: 1.9713 - dense_7_loss_10: 2.7363 - dense_7_acc_1: 0.0448 - dense_7_acc_2: 0.4101 - dense_7_acc_3: 0.2053 - dense_7_acc_4: 0.0589 - dense_7_acc_5: 0.8669 - dense_7_acc_6: 0.0047 - dense_7_acc_7: 0.0040 - dense_7_acc_8: 0.9602 - dense_7_acc_9: 0.0927 - dense_7_acc_10: 0.0578    \n"
     ]
    },
    {
     "data": {
      "text/plain": [
       "<keras.callbacks.History at 0x7f75dea46f98>"
      ]
     },
     "execution_count": 32,
     "metadata": {},
     "output_type": "execute_result"
    }
   ],
   "source": [
    "model.fit([Xoh, s0, c0], outputs, epochs=1, batch_size=100)"
   ]
  },
  {
   "cell_type": "code",
   "execution_count": 37,
   "metadata": {
    "collapsed": true
   },
   "outputs": [],
   "source": [
    "model.load_weights('models/model.h5')"
   ]
  },
  {
   "cell_type": "code",
   "execution_count": 38,
   "metadata": {},
   "outputs": [
    {
     "name": "stdout",
     "output_type": "stream",
     "text": [
      "source: 3 May 1979\n",
      "output: 1979-05-03\n",
      "source: 5 April 09\n",
      "output: 2009-05-05\n",
      "source: 21th of August 2016\n",
      "output: 2016-08-21\n",
      "source: Tue 10 Jul 2007\n",
      "output: 2007-07-10\n",
      "source: Saturday May 9 2018\n",
      "output: 2018-05-09\n",
      "source: March 3 2001\n",
      "output: 2001-03-03\n",
      "source: March 3rd 2001\n",
      "output: 2001-03-03\n",
      "source: 1 March 2001\n",
      "output: 2001-03-01\n"
     ]
    }
   ],
   "source": [
    "EXAMPLES = ['3 May 1979', '5 April 09', '21th of August 2016', 'Tue 10 Jul 2007', 'Saturday May 9 2018', 'March 3 2001', 'March 3rd 2001', '1 March 2001']\n",
    "for example in EXAMPLES:\n",
    "    \n",
    "    source = string_to_int(example, Tx, human_vocab)\n",
    "    source = np.array(list(map(lambda x: to_categorical(x, num_classes=len(human_vocab)), source))).swapaxes(0,1)\n",
    "    prediction = model.predict([source, s0, c0])\n",
    "    prediction = np.argmax(prediction, axis = -1)\n",
    "    output = [inv_machine_vocab[int(i)] for i in prediction]\n",
    "    \n",
    "    print(\"source:\", example)\n",
    "    print(\"output:\", ''.join(output))"
   ]
  },
  {
   "cell_type": "code",
   "execution_count": 41,
   "metadata": {},
   "outputs": [
    {
     "name": "stdout",
     "output_type": "stream",
     "text": [
      "____________________________________________________________________________________________________\n",
      "Layer (type)                     Output Shape          Param #     Connected to                     \n",
      "====================================================================================================\n",
      "input_3 (InputLayer)             (None, 30, 37)        0                                            \n",
      "____________________________________________________________________________________________________\n",
      "s0 (InputLayer)                  (None, 64)            0                                            \n",
      "____________________________________________________________________________________________________\n",
      "bidirectional_3 (Bidirectional)  (None, 30, 64)        17920       input_3[0][0]                    \n",
      "____________________________________________________________________________________________________\n",
      "repeat_vector_1 (RepeatVector)   (None, 30, 64)        0           s0[0][0]                         \n",
      "                                                                   lstm_7[0][0]                     \n",
      "                                                                   lstm_7[1][0]                     \n",
      "                                                                   lstm_7[2][0]                     \n",
      "                                                                   lstm_7[3][0]                     \n",
      "                                                                   lstm_7[4][0]                     \n",
      "                                                                   lstm_7[5][0]                     \n",
      "                                                                   lstm_7[6][0]                     \n",
      "                                                                   lstm_7[7][0]                     \n",
      "                                                                   lstm_7[8][0]                     \n",
      "____________________________________________________________________________________________________\n",
      "concatenate_1 (Concatenate)      (None, 30, 128)       0           bidirectional_3[0][0]            \n",
      "                                                                   repeat_vector_1[11][0]           \n",
      "                                                                   bidirectional_3[0][0]            \n",
      "                                                                   repeat_vector_1[12][0]           \n",
      "                                                                   bidirectional_3[0][0]            \n",
      "                                                                   repeat_vector_1[13][0]           \n",
      "                                                                   bidirectional_3[0][0]            \n",
      "                                                                   repeat_vector_1[14][0]           \n",
      "                                                                   bidirectional_3[0][0]            \n",
      "                                                                   repeat_vector_1[15][0]           \n",
      "                                                                   bidirectional_3[0][0]            \n",
      "                                                                   repeat_vector_1[16][0]           \n",
      "                                                                   bidirectional_3[0][0]            \n",
      "                                                                   repeat_vector_1[17][0]           \n",
      "                                                                   bidirectional_3[0][0]            \n",
      "                                                                   repeat_vector_1[18][0]           \n",
      "                                                                   bidirectional_3[0][0]            \n",
      "                                                                   repeat_vector_1[19][0]           \n",
      "                                                                   bidirectional_3[0][0]            \n",
      "                                                                   repeat_vector_1[20][0]           \n",
      "____________________________________________________________________________________________________\n",
      "dense_1 (Dense)                  (None, 30, 10)        1290        concatenate_1[10][0]             \n",
      "                                                                   concatenate_1[11][0]             \n",
      "                                                                   concatenate_1[12][0]             \n",
      "                                                                   concatenate_1[13][0]             \n",
      "                                                                   concatenate_1[14][0]             \n",
      "                                                                   concatenate_1[15][0]             \n",
      "                                                                   concatenate_1[16][0]             \n",
      "                                                                   concatenate_1[17][0]             \n",
      "                                                                   concatenate_1[18][0]             \n",
      "                                                                   concatenate_1[19][0]             \n",
      "____________________________________________________________________________________________________\n",
      "dense_2 (Dense)                  (None, 30, 1)         11          dense_1[10][0]                   \n",
      "                                                                   dense_1[11][0]                   \n",
      "                                                                   dense_1[12][0]                   \n",
      "                                                                   dense_1[13][0]                   \n",
      "                                                                   dense_1[14][0]                   \n",
      "                                                                   dense_1[15][0]                   \n",
      "                                                                   dense_1[16][0]                   \n",
      "                                                                   dense_1[17][0]                   \n",
      "                                                                   dense_1[18][0]                   \n",
      "                                                                   dense_1[19][0]                   \n",
      "____________________________________________________________________________________________________\n",
      "attention_weights (Activation)   (None, 30, 1)         0           dense_2[10][0]                   \n",
      "                                                                   dense_2[11][0]                   \n",
      "                                                                   dense_2[12][0]                   \n",
      "                                                                   dense_2[13][0]                   \n",
      "                                                                   dense_2[14][0]                   \n",
      "                                                                   dense_2[15][0]                   \n",
      "                                                                   dense_2[16][0]                   \n",
      "                                                                   dense_2[17][0]                   \n",
      "                                                                   dense_2[18][0]                   \n",
      "                                                                   dense_2[19][0]                   \n",
      "____________________________________________________________________________________________________\n",
      "dot_1 (Dot)                      (None, 1, 64)         0           attention_weights[10][0]         \n",
      "                                                                   bidirectional_3[0][0]            \n",
      "                                                                   attention_weights[11][0]         \n",
      "                                                                   bidirectional_3[0][0]            \n",
      "                                                                   attention_weights[12][0]         \n",
      "                                                                   bidirectional_3[0][0]            \n",
      "                                                                   attention_weights[13][0]         \n",
      "                                                                   bidirectional_3[0][0]            \n",
      "                                                                   attention_weights[14][0]         \n",
      "                                                                   bidirectional_3[0][0]            \n",
      "                                                                   attention_weights[15][0]         \n",
      "                                                                   bidirectional_3[0][0]            \n",
      "                                                                   attention_weights[16][0]         \n",
      "                                                                   bidirectional_3[0][0]            \n",
      "                                                                   attention_weights[17][0]         \n",
      "                                                                   bidirectional_3[0][0]            \n",
      "                                                                   attention_weights[18][0]         \n",
      "                                                                   bidirectional_3[0][0]            \n",
      "                                                                   attention_weights[19][0]         \n",
      "                                                                   bidirectional_3[0][0]            \n",
      "____________________________________________________________________________________________________\n",
      "c0 (InputLayer)                  (None, 64)            0                                            \n",
      "____________________________________________________________________________________________________\n",
      "lstm_7 (LSTM)                    [(None, 64), (None, 6 33024       dot_1[10][0]                     \n",
      "                                                                   s0[0][0]                         \n",
      "                                                                   c0[0][0]                         \n",
      "                                                                   dot_1[11][0]                     \n",
      "                                                                   lstm_7[0][0]                     \n",
      "                                                                   lstm_7[0][2]                     \n",
      "                                                                   dot_1[12][0]                     \n",
      "                                                                   lstm_7[1][0]                     \n",
      "                                                                   lstm_7[1][2]                     \n",
      "                                                                   dot_1[13][0]                     \n",
      "                                                                   lstm_7[2][0]                     \n",
      "                                                                   lstm_7[2][2]                     \n",
      "                                                                   dot_1[14][0]                     \n",
      "                                                                   lstm_7[3][0]                     \n",
      "                                                                   lstm_7[3][2]                     \n",
      "                                                                   dot_1[15][0]                     \n",
      "                                                                   lstm_7[4][0]                     \n",
      "                                                                   lstm_7[4][2]                     \n",
      "                                                                   dot_1[16][0]                     \n",
      "                                                                   lstm_7[5][0]                     \n",
      "                                                                   lstm_7[5][2]                     \n",
      "                                                                   dot_1[17][0]                     \n",
      "                                                                   lstm_7[6][0]                     \n",
      "                                                                   lstm_7[6][2]                     \n",
      "                                                                   dot_1[18][0]                     \n",
      "                                                                   lstm_7[7][0]                     \n",
      "                                                                   lstm_7[7][2]                     \n",
      "                                                                   dot_1[19][0]                     \n",
      "                                                                   lstm_7[8][0]                     \n",
      "                                                                   lstm_7[8][2]                     \n",
      "____________________________________________________________________________________________________\n",
      "dense_7 (Dense)                  (None, 11)            715         lstm_7[0][0]                     \n",
      "                                                                   lstm_7[1][0]                     \n",
      "                                                                   lstm_7[2][0]                     \n",
      "                                                                   lstm_7[3][0]                     \n",
      "                                                                   lstm_7[4][0]                     \n",
      "                                                                   lstm_7[5][0]                     \n",
      "                                                                   lstm_7[6][0]                     \n",
      "                                                                   lstm_7[7][0]                     \n",
      "                                                                   lstm_7[8][0]                     \n",
      "                                                                   lstm_7[9][0]                     \n",
      "====================================================================================================\n",
      "Total params: 52,960\n",
      "Trainable params: 52,960\n",
      "Non-trainable params: 0\n",
      "____________________________________________________________________________________________________\n"
     ]
    }
   ],
   "source": [
    "model.summary()"
   ]
  }
 ],
 "metadata": {
  "coursera": {
   "course_slug": "nlp-sequence-models",
   "graded_item_id": "n16CQ",
   "launcher_item_id": "npjGi"
  },
  "kernelspec": {
   "display_name": "Python 3",
   "language": "python",
   "name": "python3"
  },
  "language_info": {
   "codemirror_mode": {
    "name": "ipython",
    "version": 3
   },
   "file_extension": ".py",
   "mimetype": "text/x-python",
   "name": "python",
   "nbconvert_exporter": "python",
   "pygments_lexer": "ipython3",
   "version": "3.7.4"
  }
 },
 "nbformat": 4,
 "nbformat_minor": 2
}
